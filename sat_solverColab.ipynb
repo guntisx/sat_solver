{
  "nbformat": 4,
  "nbformat_minor": 0,
  "metadata": {
    "colab": {
      "provenance": []
    },
    "kernelspec": {
      "name": "python3",
      "display_name": "Python 3"
    },
    "language_info": {
      "name": "python"
    }
  },
  "cells": [
    {
      "cell_type": "markdown",
      "source": [
        "**Upload input.cnf and pigeonhole.cnf files to the current directory before executing below code.**"
      ],
      "metadata": {
        "id": "SjV3aq76r7dL"
      }
    },
    {
      "cell_type": "code",
      "execution_count": 1,
      "metadata": {
        "colab": {
          "base_uri": "https://localhost:8080/"
        },
        "id": "wkmb4sl8rYCG",
        "outputId": "1fd7055e-cdc8-47f9-bd7b-a13213fbef36"
      },
      "outputs": [
        {
          "output_type": "stream",
          "name": "stdout",
          "text": [
            "SAT\n",
            "-1 2 -3 -4 -5 -6 7 8 -9 10 11 12 -13 -14 15 16 17 -18 -19 -20 0\n"
          ]
        }
      ],
      "source": [
        "import sys\n",
        "from typing import List, Set, Dict, Optional\n",
        "\n",
        "class SATSolver:\n",
        "    def __init__(self, clauses: List[List[int]], num_vars: int):\n",
        "        self.clauses = clauses\n",
        "        self.num_vars = num_vars\n",
        "        self.assignments: Dict[int, bool] = {}\n",
        "\n",
        "    def solve(self) -> Optional[Dict[int, bool]]:\n",
        "        return self.dpll(self.clauses, self.assignments.copy())\n",
        "\n",
        "    def dpll(self, clauses: List[List[int]], assignments: Dict[int, bool]) -> Optional[Dict[int, bool]]:\n",
        "        clauses = self.simplify_clauses(clauses, assignments)\n",
        "\n",
        "        if not clauses:\n",
        "            return assignments  # All clauses satisfied\n",
        "        if any(len(clause) == 0 for clause in clauses):\n",
        "            return None  # Conflict detected\n",
        "\n",
        "        # Unit Propagation\n",
        "        unit = self.find_unit_clause(clauses)\n",
        "        if unit:\n",
        "            var, value = unit\n",
        "            assignments[var] = value\n",
        "            return self.dpll(clauses, assignments)\n",
        "\n",
        "        # Pure Literal Elimination\n",
        "        pure = self.find_pure_literal(clauses)\n",
        "        if pure:\n",
        "            var, value = pure\n",
        "            assignments[var] = value\n",
        "            return self.dpll(clauses, assignments)\n",
        "\n",
        "        # Choose the first unassigned variable\n",
        "        var = self.choose_variable(clauses, assignments)\n",
        "        for value in [True, False]:\n",
        "            new_assignments = assignments.copy()\n",
        "            new_assignments[var] = value\n",
        "            result = self.dpll(clauses, new_assignments)\n",
        "            if result is not None:\n",
        "                return result\n",
        "\n",
        "        return None  # No solution found\n",
        "\n",
        "    def simplify_clauses(self, clauses: List[List[int]], assignments: Dict[int, bool]) -> List[List[int]]:\n",
        "        simplified = []\n",
        "        for clause in clauses:\n",
        "            new_clause = []\n",
        "            satisfied = False\n",
        "            for literal in clause:\n",
        "                var = abs(literal)\n",
        "                val = assignments.get(var)\n",
        "                if val is not None:\n",
        "                    if (literal > 0 and val) or (literal < 0 and not val):\n",
        "                        satisfied = True\n",
        "                        break  # Clause is satisfied\n",
        "                    else:\n",
        "                        continue  # Literal is False, skip\n",
        "                else:\n",
        "                    new_clause.append(literal)\n",
        "            if not satisfied:\n",
        "                simplified.append(new_clause)\n",
        "        return simplified\n",
        "\n",
        "    def find_unit_clause(self, clauses: List[List[int]]) -> Optional[tuple]:\n",
        "        for clause in clauses:\n",
        "            if len(clause) == 1:\n",
        "                literal = clause[0]\n",
        "                var = abs(literal)\n",
        "                value = literal > 0\n",
        "                return (var, value)\n",
        "        return None\n",
        "\n",
        "    def find_pure_literal(self, clauses: List[List[int]]) -> Optional[tuple]:\n",
        "        counts: Dict[int, Set[bool]] = {}\n",
        "        for clause in clauses:\n",
        "            for literal in clause:\n",
        "                var = abs(literal)\n",
        "                val = literal > 0\n",
        "                if var not in counts:\n",
        "                    counts[var] = set()\n",
        "                counts[var].add(val)\n",
        "        for var, vals in counts.items():\n",
        "            if len(vals) == 1:\n",
        "                return (var, next(iter(vals)))\n",
        "        return None\n",
        "\n",
        "    def choose_variable(self, clauses: List[List[int]], assignments: Dict[int, bool]) -> int:\n",
        "        # Heuristic: choose the variable that appears most frequently\n",
        "        frequency: Dict[int, int] = {}\n",
        "        for clause in clauses:\n",
        "            for literal in clause:\n",
        "                var = abs(literal)\n",
        "                if var not in assignments:\n",
        "                    frequency[var] = frequency.get(var, 0) + 1\n",
        "        if frequency:\n",
        "            return max(frequency, key=frequency.get)\n",
        "        else:\n",
        "            return 1  # Default to variable 1 if no variables left\n",
        "\n",
        "def parse_dimacs(dimacs: str) -> (List[List[int]], int):\n",
        "    clauses = []\n",
        "    num_vars = 0\n",
        "    for line in dimacs.splitlines():\n",
        "        line = line.strip()\n",
        "        if not line or line.startswith('c'):\n",
        "            continue\n",
        "        if line.startswith('p'):\n",
        "            parts = line.split()\n",
        "            if len(parts) != 4 or parts[1] != 'cnf':\n",
        "                raise ValueError(\"Invalid problem line in DIMACS format.\")\n",
        "            num_vars = int(parts[2])\n",
        "            # num_clauses = int(parts[3])  # Not used\n",
        "        else:\n",
        "            literals = list(map(int, line.split()))\n",
        "            if literals[-1] != 0:\n",
        "                raise ValueError(\"Clause line does not end with 0.\")\n",
        "            clauses.append(literals[:-1])\n",
        "    return clauses, num_vars\n",
        "\n",
        "def read_dimacs_file(filename: str) -> (List[List[int]], int):\n",
        "    with open(filename, 'r') as file:\n",
        "        dimacs = file.read()\n",
        "    return parse_dimacs(dimacs)\n",
        "\n",
        "def main():\n",
        "    #if len(sys.argv) != 2:\n",
        "        #print(\"Usage: python satsolver.py <input_dimacs_file>\")\n",
        "        #sys.exit(1)\n",
        "\n",
        "    input_file = \"input.cnf\"\n",
        "    try:\n",
        "        clauses, num_vars = read_dimacs_file(input_file)\n",
        "    except Exception as e:\n",
        "        print(f\"Error reading DIMACS file: {e}\")\n",
        "        sys.exit(1)\n",
        "\n",
        "    solver = SATSolver(clauses, num_vars)\n",
        "    solution = solver.solve()\n",
        "\n",
        "    if solution is None:\n",
        "        print(\"UNSAT\")\n",
        "    else:\n",
        "        print(\"SAT\")\n",
        "        # DIMACS expects a line with variable assignments ending with 0\n",
        "        assignment_line = []\n",
        "        for var in range(1, num_vars + 1):\n",
        "            val = solution.get(var, False)\n",
        "            literal = var if val else -var\n",
        "            assignment_line.append(str(literal))\n",
        "        assignment_line.append('0')\n",
        "        print(' '.join(assignment_line))\n",
        "\n",
        "if __name__ == \"__main__\":\n",
        "    main()\n"
      ]
    },
    {
      "cell_type": "code",
      "source": [
        "    input_file = \"pigeonhole.cnf\"\n",
        "    try:\n",
        "        clauses, num_vars = read_dimacs_file(input_file)\n",
        "    except Exception as e:\n",
        "        print(f\"Error reading DIMACS file: {e}\")\n",
        "        sys.exit(1)\n",
        "\n",
        "    solver = SATSolver(clauses, num_vars)\n",
        "    solution = solver.solve()\n",
        "\n",
        "    if solution is None:\n",
        "        print(\"UNSAT\")\n",
        "    else:\n",
        "        print(\"SAT\")\n",
        "        # DIMACS expects a line with variable assignments ending with 0\n",
        "        assignment_line = []\n",
        "        for var in range(1, num_vars + 1):\n",
        "            val = solution.get(var, False)\n",
        "            literal = var if val else -var\n",
        "            assignment_line.append(str(literal))\n",
        "        assignment_line.append('0')\n",
        "        print(' '.join(assignment_line))"
      ],
      "metadata": {
        "colab": {
          "base_uri": "https://localhost:8080/"
        },
        "id": "GlyKYlqLrjLt",
        "outputId": "dcb51da8-1157-425e-8cd2-114c420c4923"
      },
      "execution_count": 2,
      "outputs": [
        {
          "output_type": "stream",
          "name": "stdout",
          "text": [
            "UNSAT\n"
          ]
        }
      ]
    },
    {
      "cell_type": "code",
      "source": [],
      "metadata": {
        "id": "m5UyhiJKrjO8"
      },
      "execution_count": null,
      "outputs": []
    },
    {
      "cell_type": "code",
      "source": [],
      "metadata": {
        "id": "35FHAnYZrjRv"
      },
      "execution_count": null,
      "outputs": []
    },
    {
      "cell_type": "code",
      "source": [],
      "metadata": {
        "id": "Oxy9Rwi8rjUa"
      },
      "execution_count": null,
      "outputs": []
    }
  ]
}